{
  "nbformat": 4,
  "nbformat_minor": 0,
  "metadata": {
    "colab": {
      "name": "OpenCV2.ipynb",
      "provenance": [],
      "toc_visible": true
    },
    "kernelspec": {
      "name": "python3",
      "display_name": "Python 3"
    }
  },
  "cells": [
    {
      "cell_type": "code",
      "metadata": {
        "id": "g2HBJz_VbmYl",
        "colab_type": "code",
        "colab": {}
      },
      "source": [
        "import numpy as np\n",
        "import cv2\n",
        "from matplotlib import pyplot as plt"
      ],
      "execution_count": 0,
      "outputs": []
    },
    {
      "cell_type": "markdown",
      "metadata": {
        "id": "OSqWniLffb2M",
        "colab_type": "text"
      },
      "source": [
        "detecting the object from photo"
      ]
    },
    {
      "cell_type": "code",
      "metadata": {
        "id": "IJbq0R23b40l",
        "colab_type": "code",
        "outputId": "77f32b1b-9d06-4038-cb76-b6a1e2b60ba3",
        "colab": {
          "base_uri": "https://localhost:8080/",
          "height": 286
        }
      },
      "source": [
        "img = cv2.imread('109.jpeg')\n",
        "gray = cv2.cvtColor(img, cv2.COLOR_BGR2GRAY)\n",
        "# binarize the image\n",
        "ret, bw = cv2.threshold(gray, 128, 255, \n",
        "cv2.THRESH_BINARY_INV+cv2.THRESH_OTSU)\n",
        "\n",
        "# find connected components\n",
        "connectivity = 4\n",
        "nb_components, output, stats, centroids = cv2.connectedComponentsWithStats(bw, connectivity, cv2.CV_32S)\n",
        "sizes = stats[1:, -1]; nb_components = nb_components - 1\n",
        "min_size = 250 #threshhold value for objects in scene\n",
        "img2 = np.zeros((img.shape), np.uint8)\n",
        "for i in range(0, nb_components+1):\n",
        "    # use if sizes[i] >= min_size: to identify your objects\n",
        "    color = np.random.randint(255,size=3)\n",
        "    # draw the bounding rectangele around each object\n",
        "    cv2.rectangle(img2, (stats[i][0],stats[i][1]),(stats[i][0]+stats[i][2],stats[i][1]+stats[i][3]), (0,255,0), 2)\n",
        "    img2[output == i + 1] = color\n",
        "\n",
        "plt.imshow(img2)"
      ],
      "execution_count": 0,
      "outputs": [
        {
          "output_type": "execute_result",
          "data": {
            "text/plain": [
              "<matplotlib.image.AxesImage at 0x7f5155248a58>"
            ]
          },
          "metadata": {
            "tags": []
          },
          "execution_count": 7
        },
        {
          "output_type": "display_data",
          "data": {
            "image/png": "[encoded data removed]",
            "text/plain": [
              "<Figure size 432x288 with 1 Axes>"
            ]
          },
          "metadata": {
            "tags": []
          }
        }
      ]
    },
    {
      "cell_type": "markdown",
      "metadata": {
        "id": "GXC6_UAffYjB",
        "colab_type": "text"
      },
      "source": [
        "croping text"
      ]
    },
    {
      "cell_type": "code",
      "metadata": {
        "id": "IZ7X1g95eKGm",
        "colab_type": "code",
        "colab": {}
      },
      "source": [
        "import cv2\n",
        "import numpy as np\n",
        "\n",
        "# load image\n",
        "img = cv2.imread('109.jpeg') \n",
        "rsz_img = cv2.resize(img, None, fx=0.25, fy=0.25) # resize since image is huge\n",
        "gray = cv2.cvtColor(rsz_img, cv2.COLOR_BGR2GRAY) # convert to grayscale\n",
        "\n",
        "# threshold to get just the signature\n",
        "retval, thresh_gray = cv2.threshold(gray, thresh=100, maxval=255, type=cv2.THRESH_BINARY)\n",
        "\n",
        "# find where the signature is and make a cropped region\n",
        "points = np.argwhere(thresh_gray==1) # find where the black pixels are\n",
        "points = np.fliplr(points) # store them in x,y coordinates instead of row,col indices\n",
        "x, y, w, h = cv2.boundingRect(points) # create a rectangle around those points\n",
        "x, y, w, h = x-10, y-10, w+20, h+20 # make the box a little bigger\n",
        "crop = gray[y:y+h, x:x+w] # create a cropped region of the gray image\n",
        "\n",
        "# get the thresholded crop\n",
        "retval, thresh_crop = cv2.threshold(crop, thresh=200, maxval=255, type=cv2.THRESH_BINARY)\n",
        "\n",
        "# # display\n",
        "# cv2.imshow(\"Cropped and thresholded image\", thresh_crop) \n",
        "# cv2.waitKey(0)"
      ],
      "execution_count": 0,
      "outputs": []
    },
    {
      "cell_type": "markdown",
      "metadata": {
        "id": "vc8Jxkg2gIIy",
        "colab_type": "text"
      },
      "source": [
        "task"
      ]
    },
    {
      "cell_type": "code",
      "metadata": {
        "id": "wEboL3_ogKgw",
        "colab_type": "code",
        "colab": {}
      },
      "source": [
        "def RGB2HEX(color):\n",
        "    return \"#{:02x}{:02x}{:02x}\".format(int(color[0]), int(color[1]), int(color[2]))"
      ],
      "execution_count": 0,
      "outputs": []
    },
    {
      "cell_type": "code",
      "metadata": {
        "id": "BDiEDx9agU6c",
        "colab_type": "code",
        "colab": {}
      },
      "source": [
        "def get_image(image_path):\n",
        "    image = cv2.imread(image_path)\n",
        "    image = cv2.cvtColor(image, cv2.COLOR_BGR2RGB)\n",
        "    return image"
      ],
      "execution_count": 0,
      "outputs": []
    },
    {
      "cell_type": "code",
      "metadata": {
        "id": "zYFYBk2ghj1R",
        "colab_type": "code",
        "colab": {}
      },
      "source": [
        "from sklearn.cluster import KMeans\n",
        "import matplotlib.pyplot as plt\n",
        "import numpy as np\n",
        "import cv2\n",
        "from collections import Counter\n",
        "from skimage.color import rgb2lab, deltaE_cie76\n",
        "import os\n",
        "\n",
        "%matplotlib inline"
      ],
      "execution_count": 0,
      "outputs": []
    },
    {
      "cell_type": "code",
      "metadata": {
        "id": "jMkHoeJ7hp4h",
        "colab_type": "code",
        "colab": {}
      },
      "source": [
        "image = get_image(\"123.png\")\n",
        "modified_image = cv2.resize(image, (600, 400), interpolation = cv2.INTER_AREA)\n",
        "modified_image = modified_image.reshape(modified_image.shape[0]*modified_image.shape[1], 3)"
      ],
      "execution_count": 0,
      "outputs": []
    },
    {
      "cell_type": "code",
      "metadata": {
        "id": "uShAdRiqh7kx",
        "colab_type": "code",
        "colab": {}
      },
      "source": [
        "clf = KMeans(n_clusters = 10)#number of colors here\n",
        "labels = clf.fit_predict(modified_image)"
      ],
      "execution_count": 0,
      "outputs": []
    },
    {
      "cell_type": "code",
      "metadata": {
        "id": "IsS4f_kEiNqS",
        "colab_type": "code",
        "outputId": "d1c6b1d9-6524-4689-e6ca-1dbf6bcec33e",
        "colab": {
          "base_uri": "https://localhost:8080/",
          "height": 527
        }
      },
      "source": [
        "counts = Counter(labels)\n",
        "\n",
        "center_colors = clf.cluster_centers_\n",
        "# We get ordered colors by iterating through the keys\n",
        "ordered_colors = [center_colors[i] for i in counts.keys()]\n",
        "hex_colors = [RGB2HEX(ordered_colors[i]) for i in counts.keys()]\n",
        "rgb_colors = [ordered_colors[i] for i in counts.keys()]\n",
        "\n",
        "if (True):#if we need to showing the pie chart\n",
        "    plt.figure(figsize = (8, 6))\n",
        "    plt.pie(counts.values(), labels = hex_colors, colors = hex_colors)\n",
        "\n",
        "rgb_colors"
      ],
      "execution_count": 0,
      "outputs": [
        {
          "output_type": "execute_result",
          "data": {
            "text/plain": [
              "[array([121.28738183, 114.48427552,  82.64769439]),\n",
              " array([85.46212832, 93.71357643, 35.71992056]),\n",
              " array([142.60294493, 135.56295516, 120.83994506]),\n",
              " array([184.06423921, 177.65075062, 169.78736163]),\n",
              " array([174.34237569, 167.74048018, 155.40752062]),\n",
              " array([24.70765593, 24.46467632, 32.16405557]),\n",
              " array([159.94477616, 153.24891254, 140.77867236]),\n",
              " array([63.44139696, 74.20799049, 20.32702505]),\n",
              " array([141.67387543,  33.73053633,  45.23788927]),\n",
              " array([ 46.50686436,  79.6523888 , 133.17902252])]"
            ]
          },
          "metadata": {
            "tags": []
          },
          "execution_count": 44
        },
        {
          "output_type": "display_data",
          "data": {
            "image/png": "[encoded data removed]",
            "text/plain": [
              "<Figure size 576x432 with 1 Axes>"
            ]
          },
          "metadata": {
            "tags": []
          }
        }
      ]
    }
  ]
}